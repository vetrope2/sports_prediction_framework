{
 "cells": [
  {
   "cell_type": "code",
   "execution_count": 1,
   "id": "1b248dd4-677e-463c-90df-9fa3d6f8adfa",
   "metadata": {},
   "outputs": [],
   "source": [
    "from DataLoader import CSVDataLoader\n",
    "from DataWrapper import DataWrapper\n",
    "from Model import Model\n",
    "from DataTransformer import DataTransformer\n",
    "from sklearn.ensemble import RandomForestClassifier\n",
    "import pandas as pd\n"
   ]
  },
  {
   "cell_type": "code",
   "execution_count": 2,
   "id": "064c95f6-e3d1-4d1a-8344-9cde6e21860e",
   "metadata": {},
   "outputs": [],
   "source": [
    "loader = CSVDataLoader()\n",
    "data = loader.load_data('input_example/closing_odds.csv')\n",
    "data = DataWrapper(data.data_frame.head(1000))"
   ]
  },
  {
   "cell_type": "code",
   "execution_count": 7,
   "id": "2d7e871e-6238-43ae-a335-607c1d586fd1",
   "metadata": {},
   "outputs": [
    {
     "name": "stderr",
     "output_type": "stream",
     "text": [
      "\u001b[31m2025/01/19 17:52:06 WARNING mlflow.models.model: Model logged without a signature and input example. Please set `input_example` parameter when logging the model to auto infer the model signature.\u001b[0m\n"
     ]
    },
    {
     "name": "stdout",
     "output_type": "stream",
     "text": [
      "🏃 View run Model 1 at: http://127.0.0.1:5000/#/experiments/493576993042726908/runs/a34600c1a982459dbb014a0b8ab86fbf\n",
      "🧪 View experiment at: http://127.0.0.1:5000/#/experiments/493576993042726908\n",
      "Model accuracy of 0.31\n"
     ]
    }
   ],
   "source": [
    "X = DataWrapper(data.get_data()['home_team'])\n",
    "y = data.get_data()['home_score']\n",
    "\n",
    "dt = DataTransformer()\n",
    "X = dt.create_dummies(X, 'home_team')\n",
    "\n",
    "m = Model(RandomForestClassifier())\n",
    "m.train_and_test(X.get_data(),y)"
   ]
  },
  {
   "cell_type": "code",
   "execution_count": null,
   "id": "141de518-ec29-4a55-95ae-d2a7e973493e",
   "metadata": {},
   "outputs": [],
   "source": []
  }
 ],
 "metadata": {
  "kernelspec": {
   "display_name": "Python 3 (ipykernel)",
   "language": "python",
   "name": "python3"
  },
  "language_info": {
   "codemirror_mode": {
    "name": "ipython",
    "version": 3
   },
   "file_extension": ".py",
   "mimetype": "text/x-python",
   "name": "python",
   "nbconvert_exporter": "python",
   "pygments_lexer": "ipython3",
   "version": "3.12.7"
  }
 },
 "nbformat": 4,
 "nbformat_minor": 5
}
