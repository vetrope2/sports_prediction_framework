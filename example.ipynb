{
 "cells": [
  {
   "cell_type": "code",
   "execution_count": 1,
   "id": "1b248dd4-677e-463c-90df-9fa3d6f8adfa",
   "metadata": {},
   "outputs": [],
   "source": [
    "from DataLoader import CSVDataLoader\n",
    "from DataWrapper import DataWrapper\n",
    "from Model import Model\n",
    "from DataTransformer import DataTransformer\n",
    "from sklearn.ensemble import RandomForestClassifier\n",
    "import pandas as pd\n"
   ]
  },
  {
   "cell_type": "code",
   "execution_count": 2,
   "id": "064c95f6-e3d1-4d1a-8344-9cde6e21860e",
   "metadata": {},
   "outputs": [],
   "source": [
    "loader = CSVDataLoader()\n",
    "data = loader.load_data('input_example/closing_odds.csv')\n",
    "data = DataWrapper(data.data_frame.head(1000))"
   ]
  },
  {
   "cell_type": "code",
   "execution_count": null,
   "id": "2d7e871e-6238-43ae-a335-607c1d586fd1",
   "metadata": {},
   "outputs": [],
   "source": []
  }
 ],
 "metadata": {
  "kernelspec": {
   "display_name": "Python 3 (ipykernel)",
   "language": "python",
   "name": "python3"
  },
  "language_info": {
   "codemirror_mode": {
    "name": "ipython",
    "version": 3
   },
   "file_extension": ".py",
   "mimetype": "text/x-python",
   "name": "python",
   "nbconvert_exporter": "python",
   "pygments_lexer": "ipython3",
   "version": "3.12.7"
  }
 },
 "nbformat": 4,
 "nbformat_minor": 5
}
