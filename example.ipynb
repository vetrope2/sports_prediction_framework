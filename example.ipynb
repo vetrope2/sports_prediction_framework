{
 "cells": [
  {
   "cell_type": "code",
   "execution_count": 1,
   "id": "1b248dd4-677e-463c-90df-9fa3d6f8adfa",
   "metadata": {},
   "outputs": [],
   "source": [
    "from DataLoader import CSVDataLoader\n"
   ]
  },
  {
   "cell_type": "code",
   "execution_count": 2,
   "id": "064c95f6-e3d1-4d1a-8344-9cde6e21860e",
   "metadata": {},
   "outputs": [],
   "source": [
    "loader = CSVDataLoader()\n",
    "data = loader.load_data('input_example/closing_odds.csv')"
   ]
  },
  {
   "cell_type": "code",
   "execution_count": 3,
   "id": "beb71471-4f23-40de-b4ae-c5464641b1db",
   "metadata": {},
   "outputs": [
    {
     "name": "stdout",
     "output_type": "stream",
     "text": [
      "        match_id                   league  match_date     home_team  \\\n",
      "0         170088  England: Premier League  2005-01-01     Liverpool   \n",
      "1         170089  England: Premier League  2005-01-01        Fulham   \n",
      "2         170090  England: Premier League  2005-01-01   Aston Villa   \n",
      "3         170091  England: Premier League  2005-01-01        Bolton   \n",
      "4         170092  England: Premier League  2005-01-01      Charlton   \n",
      "...          ...                      ...         ...           ...   \n",
      "479435    876806     World: Club Friendly  2015-06-30    St. Gallen   \n",
      "479436    876807     World: Club Friendly  2015-06-30  SW Harelbeke   \n",
      "479437    876808     World: Club Friendly  2015-06-30       Torhout   \n",
      "479438    876809     World: Club Friendly  2015-06-30       Tournai   \n",
      "479439    876812     World: Club Friendly  2015-06-30         Zavrc   \n",
      "\n",
      "        home_score          away_team  away_score  avg_odds_home_win  \\\n",
      "0                0            Chelsea           1             2.9944   \n",
      "1                3     Crystal Palace           1             1.9456   \n",
      "2                1          Blackburn           0             1.8522   \n",
      "3                1          West Brom           1             1.6122   \n",
      "4                1            Arsenal           3             5.9878   \n",
      "...            ...                ...         ...                ...   \n",
      "479435           1   Wacker Innsbruck           2             1.6838   \n",
      "479436           1            Waregem           1            13.1165   \n",
      "479437           0        Club Brugge           5            17.2256   \n",
      "479438           0  Mouscron Peruwelz           3            15.7143   \n",
      "479439           0         Istra 1961           0             4.7145   \n",
      "\n",
      "        avg_odds_draw  avg_odds_away_win  max_odds_home_win  max_odds_draw  \\\n",
      "0              3.1944             2.2256               3.20           3.25   \n",
      "1              3.2333             3.6722               2.04           3.30   \n",
      "2              3.2611             4.0144               2.00           3.40   \n",
      "3              3.4133             5.4722               1.67           3.57   \n",
      "4              3.4778             1.5567               7.00           3.60   \n",
      "...               ...                ...                ...            ...   \n",
      "479435         3.8846             3.9813               1.83           4.20   \n",
      "479436         7.8229             1.1053              19.00           9.00   \n",
      "479437        12.6231             1.0288              22.00          15.00   \n",
      "479438        10.2857             1.0614              34.00          12.00   \n",
      "479439         3.9259             1.5650               5.46           4.25   \n",
      "\n",
      "        max_odds_away_win top_bookie_home_win  top_bookie_draw  \\\n",
      "0                    2.29         Paddy Power      Sportingbet   \n",
      "1                    4.15     Pinnacle Sports      bet-at-home   \n",
      "2                    4.50     Pinnacle Sports      Paddy Power   \n",
      "3                    6.27               Coral  Pinnacle Sports   \n",
      "4                    1.62              Expekt      Paddy Power   \n",
      "...                   ...                 ...              ...   \n",
      "479435               4.33              188BET           bet365   \n",
      "479436               1.13           BetVictor           bet365   \n",
      "479437               1.05           BetVictor          Jetbull   \n",
      "479438               1.10         Sportingbet          Betclic   \n",
      "479439               1.70     Pinnacle Sports         888sport   \n",
      "\n",
      "       top_bookie_away_win  n_odds_home_win  n_odds_draw  n_odds_away_win  \n",
      "0                   Expekt                9            9                9  \n",
      "1                   Expekt                9            9                9  \n",
      "2              Sportingbet                9            9                9  \n",
      "3          Pinnacle Sports                9            9                9  \n",
      "4                   bet365                9            9                9  \n",
      "...                    ...              ...          ...              ...  \n",
      "479435           Ladbrokes               24           24               24  \n",
      "479436            Titanbet               17           17               17  \n",
      "479437           BetVictor               16           16               16  \n",
      "479438         Paddy Power                7            7                7  \n",
      "479439           Ladbrokes               22           22               22  \n",
      "\n",
      "[439776 rows x 19 columns]\n"
     ]
    }
   ],
   "source": [
    "data.fix_outliers('home_score')\n",
    "print(data.data_frame)"
   ]
  },
  {
   "cell_type": "code",
   "execution_count": null,
   "id": "2d7e871e-6238-43ae-a335-607c1d586fd1",
   "metadata": {},
   "outputs": [],
   "source": []
  }
 ],
 "metadata": {
  "kernelspec": {
   "display_name": "Python 3 (ipykernel)",
   "language": "python",
   "name": "python3"
  },
  "language_info": {
   "codemirror_mode": {
    "name": "ipython",
    "version": 3
   },
   "file_extension": ".py",
   "mimetype": "text/x-python",
   "name": "python",
   "nbconvert_exporter": "python",
   "pygments_lexer": "ipython3",
   "version": "3.12.7"
  }
 },
 "nbformat": 4,
 "nbformat_minor": 5
}
