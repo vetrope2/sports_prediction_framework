{
 "cells": [
  {
   "cell_type": "code",
   "execution_count": 10,
   "id": "1b248dd4-677e-463c-90df-9fa3d6f8adfa",
   "metadata": {},
   "outputs": [],
   "source": [
    "from DataLoader import CSVDataLoader\n"
   ]
  },
  {
   "cell_type": "code",
   "execution_count": 11,
   "id": "064c95f6-e3d1-4d1a-8344-9cde6e21860e",
   "metadata": {},
   "outputs": [],
   "source": [
    "loader = CSVDataLoader()\n",
    "data = loader.load_data('input_example/closing_odds.csv')"
   ]
  },
  {
   "cell_type": "code",
   "execution_count": 13,
   "id": "beb71471-4f23-40de-b4ae-c5464641b1db",
   "metadata": {},
   "outputs": [
    {
     "name": "stdout",
     "output_type": "stream",
     "text": [
      "{'match_id': '170088', 'league': 'England: Premier League', 'match_date': '2005-01-01', 'home_team': 'Liverpool', 'home_score': '0', 'away_team': 'Chelsea', 'away_score': '1', 'avg_odds_home_win': '2.9944', 'avg_odds_draw': '3.1944', 'avg_odds_away_win': '2.2256', 'max_odds_home_win': '3.2000', 'max_odds_draw': '3.2500', 'max_odds_away_win': '2.2900', 'top_bookie_home_win': 'Paddy Power', 'top_bookie_draw': 'Sportingbet', 'top_bookie_away_win': 'Expekt', 'n_odds_home_win': '9', 'n_odds_draw': '9', 'n_odds_away_win': '9'}\n"
     ]
    }
   ],
   "source": [
    "print(data[0])"
   ]
  },
  {
   "cell_type": "code",
   "execution_count": null,
   "id": "2d7e871e-6238-43ae-a335-607c1d586fd1",
   "metadata": {},
   "outputs": [],
   "source": []
  }
 ],
 "metadata": {
  "kernelspec": {
   "display_name": "Python 3 (ipykernel)",
   "language": "python",
   "name": "python3"
  },
  "language_info": {
   "codemirror_mode": {
    "name": "ipython",
    "version": 3
   },
   "file_extension": ".py",
   "mimetype": "text/x-python",
   "name": "python",
   "nbconvert_exporter": "python",
   "pygments_lexer": "ipython3",
   "version": "3.12.7"
  }
 },
 "nbformat": 4,
 "nbformat_minor": 5
}
